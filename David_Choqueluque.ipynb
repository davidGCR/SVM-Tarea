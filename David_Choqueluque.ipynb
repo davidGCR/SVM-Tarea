{
 "cells": [
  {
   "cell_type": "markdown",
   "metadata": {},
   "source": [
    "## I. Preguntas de teoria"
   ]
  },
  {
   "cell_type": "markdown",
   "metadata": {},
   "source": [
    "Sea el conjunto $S={((1,6),-1),((4,9),-1),((4.6),-1),((5,1),1),((9,5),1),((9,1),1)}$ y un conjunto de hyperplanos $H={H1,H2,H3,H4}$ definidos como $H1:x_1-x_2-1=0, H2: 2x_1-7x_2+32 =0, H3: \\sqrt{0.5x_1} - \\sqrt{0.5x_2}-\\sqrt{0.5}=0, H4: 2x_1-7x_2-32=0$"
   ]
  },
  {
   "cell_type": "markdown",
   "metadata": {},
   "source": [
    "**1. Grafique**"
   ]
  },
  {
   "cell_type": "code",
   "execution_count": 1,
   "metadata": {},
   "outputs": [
    {
     "name": "stdout",
     "output_type": "stream",
     "text": [
      "X shape: (6, 2)\n",
      "y shape: (6, 1)\n",
      "X: [[1 6]\n",
      " [4 9]\n",
      " [4 6]\n",
      " [5 1]\n",
      " [9 5]\n",
      " [9 1]]\n",
      "y: [[-1]\n",
      " [-1]\n",
      " [-1]\n",
      " [ 1]\n",
      " [ 1]\n",
      " [ 1]]\n"
     ]
    }
   ],
   "source": [
    "import matplotlib.pyplot as plt\n",
    "import numpy as np\n",
    "from sklearn.datasets.samples_generator import make_blobs\n",
    "from matplotlib import pyplot\n",
    "from pandas import DataFrame\n",
    "\n",
    "#Hyperplanos\n",
    "def h1(x1, x2):\n",
    "    return x1-x2-1\n",
    "def h2(x1, x2):\n",
    "    return 2*x1-7*x2+32\n",
    "def h3(x1, x2):\n",
    "    return np.sqrt(0.5*x1) - np.sqrt(0.5*x2)-np.sqrt(0.5)\n",
    "def h4(x1, x2):\n",
    "    return 2*x1-7*x2-32\n",
    "\n",
    "n = 6 #numero de ejemplos\n",
    "m = 2 #numero de variables\n",
    "x_1 = np.array([1,4,4,5,9,9])\n",
    "x_2 = np.array([6,9,6,1,5,1])\n",
    "y=np.array([-1,-1,-1,1,1,1])\n",
    "y=y.reshape(y.shape[0],1)\n",
    "X=np.array([np.transpose(x_1),np.transpose(x_2)])\n",
    "X=np.transpose(X)\n",
    "\n",
    "x1 = np.linspace(X.min()-1, X.max()+1,20)\n",
    "x2 = np.linspace(X.min()-1, X.max()+1,20)\n",
    "XX, YY = np.meshgrid(x1, x2)\n",
    "print('X shape:',X.shape)\n",
    "print('y shape:',y.shape)\n",
    "print('X:',X)\n",
    "print('y:',y)"
   ]
  },
  {
   "cell_type": "code",
   "execution_count": 3,
   "metadata": {},
   "outputs": [
    {
     "data": {
      "image/png": "[encoded data removed]",
      "text/plain": [
       "<Figure size 432x288 with 1 Axes>"
      ]
     },
     "metadata": {
      "needs_background": "light"
     },
     "output_type": "display_data"
    }
   ],
   "source": [
    "ax = plt.subplot(111)\n",
    "plt.scatter(X[:,0], X[:,1], c=y[:,0])\n",
    "plt.title(\"Grafica\")\n",
    "\n",
    "c1 = ax.contour(XX, YY, h1(XX,YY), levels=[0],colors='red', alpha=0.5)\n",
    "c2 = ax.contour(XX, YY, h2(XX,YY), levels=[0],colors='blue', alpha=0.5)\n",
    "\n",
    "y2 = np.linspace(0, X.max()+1,20)\n",
    "XX, YY = np.meshgrid(x1, y2)\n",
    "c3 = ax.contour(XX, YY, h3(XX,YY), levels=[0],colors='green', alpha=0.5)\n",
    "\n",
    "y2 = np.linspace(-5, X.max()+1,20)\n",
    "XX, YY = np.meshgrid(x1, y2)\n",
    "c4 = ax.contour(XX, YY, h4(XX,YY), levels=[0],colors='black', alpha=0.5)\n",
    "\n",
    "lines=[c1.collections[0],c2.collections[0],c3.collections[0],c4.collections[0]]\n",
    "labels=['H1','H2','H3','H4']\n",
    "ax.legend(lines,labels,loc='upper right', bbox_to_anchor=(1.3, 0.8), shadow=True, ncol=1)\n",
    "plt.show()"
   ]
  },
  {
   "cell_type": "markdown",
   "metadata": {},
   "source": [
    "**2. Encuentre los parametros $w$ y $b$ que definen los hiperplanos y luego determine si son hiperplanos de separacion.**\n"
   ]
  },
  {
   "cell_type": "markdown",
   "metadata": {},
   "source": [
    "Sea la ecuacion general de un hiperplano:\n",
    "$$D(x)= <w,x> + b$$ \n",
    "Podemos escribir los hiperplanos de la siguiente manera:\n",
    "\n",
    "- H1:\n",
    "$$D(x) = x1-x2-1 = \\begin{bmatrix}1 & -1\\end{bmatrix}\n",
    "\\begin{bmatrix}x1 \\\\\\ x2\\end{bmatrix} - 1$$\n",
    "\n",
    "$$w_1=\\begin{bmatrix}1 \\\\\\ -1\\end{bmatrix}, b_1=\\begin{bmatrix}-1 \\\\\\ -1\\end{bmatrix}$$\n",
    "\n",
    "- H2:\n",
    "$$D(x) = 2x1-7x2+32 = \\begin{bmatrix}2 & -7\\end{bmatrix}\n",
    "\\begin{bmatrix}x1 \\\\\\ x2\\end{bmatrix} + 32$$\n",
    "$$w_2=\\begin{bmatrix}2 \\\\\\ -7\\end{bmatrix}, b_2=\\begin{bmatrix}32 \\\\\\ 32\\end{bmatrix}$$\n",
    "\n",
    "- H3:\n",
    "$$D(x) = \\sqrt{0.5}x1 - \\sqrt{0.5}x2-\\sqrt{0.5}\n",
    "=  \\begin{bmatrix}\\sqrt{0.5} & -\\sqrt{0.5}\\end{bmatrix} \\begin{bmatrix}x1 \\\\\\ x2\\end{bmatrix} - \\sqrt{0.5}\n",
    "$$\n",
    "$$w_3=\\begin{bmatrix}\\sqrt{0.5} \\\\\\ -\\sqrt{0.5}\\end{bmatrix}, b_3=\\begin{bmatrix}-\\sqrt{0.5} \\\\\\ -\\sqrt{0.5}\\end{bmatrix}$$\n",
    "\n",
    "- H4:\n",
    "$$D(x) = 2x1-7x2-32 = \\begin{bmatrix}2 & -7\\end{bmatrix}\n",
    "\\begin{bmatrix}x1 \\\\\\ x2\\end{bmatrix} - 32$$\n",
    "$$w_4=\\begin{bmatrix}2 \\\\\\ -7\\end{bmatrix}, b_4=\\begin{bmatrix}-32 \\\\\\ -32\\end{bmatrix}$$\n",
    "\n",
    "Para que un hiperplano sea un hyperplano de separacion debe cumplir la siguiente restriccion:\n",
    "\n",
    "$$y_i(<w,x> + b) \\geq 0,  \\quad i=1,..,n$$\n",
    "\n",
    "Dicha restriccion se define en la siguiente funcion.\n",
    "\n",
    "\n"
   ]
  },
  {
   "cell_type": "code",
   "execution_count": 17,
   "metadata": {},
   "outputs": [],
   "source": [
    "#funcion que calcula la restriccion de hiperplano de separacion\n",
    "def restriction(X,b,W,Y):\n",
    "    r = (np.dot(X,W)+b)\n",
    "    r = r*Y\n",
    "    return r\n"
   ]
  },
  {
   "cell_type": "markdown",
   "metadata": {},
   "source": [
    "A continuacion evaluaremos los hiperplanos calculando la restriccion para cada uno de ellos."
   ]
  },
  {
   "cell_type": "code",
   "execution_count": 30,
   "metadata": {},
   "outputs": [
    {
     "name": "stdout",
     "output_type": "stream",
     "text": [
      "H1: \n",
      " [[6]\n",
      " [6]\n",
      " [3]\n",
      " [3]\n",
      " [3]\n",
      " [7]]\n",
      "H2: \n",
      " [[ 8]\n",
      " [23]\n",
      " [ 2]\n",
      " [35]\n",
      " [15]\n",
      " [43]]\n",
      "H3: \n",
      " [[4.24264069]\n",
      " [4.24264069]\n",
      " [2.12132034]\n",
      " [2.12132034]\n",
      " [2.12132034]\n",
      " [4.94974747]]\n",
      "H4: \n",
      " [[ 72]\n",
      " [ 87]\n",
      " [ 66]\n",
      " [-29]\n",
      " [-49]\n",
      " [-21]]\n"
     ]
    }
   ],
   "source": [
    "w1, b1 = np.array([1,-1]),-1 \n",
    "w1 = w1.reshape(w1.shape[0],1)\n",
    "w2, b2 = np.array([2,-7]),32 \n",
    "w2 = w2.reshape(w2.shape[0],1)\n",
    "w3, b3 = np.array([np.sqrt(0.5),-np.sqrt(0.5)]),-np.sqrt(0.5) \n",
    "w3 = w3.reshape(w3.shape[0],1)\n",
    "w4, b4 = np.array([2,-7]),-32 \n",
    "w4 = w4.reshape(w4.shape[0],1)           \n",
    "print('H1: \\n',restriction(X,b1,w1,y))\n",
    "print('H2: \\n',restriction(X,b2,w2,y))\n",
    "print('H3: \\n',restriction(X,b3,w3,y))\n",
    "print('H4: \\n',restriction(X,b4,w4,y))"
   ]
  },
  {
   "cell_type": "markdown",
   "metadata": {},
   "source": [
    "Observamos en los resultados anteriores que el hiperplano $H4$ no es un hiperplano de separacion debido a que no cumple la restriccion para los 3 ultimos ejemplos, mientras que los hiperplanos $H1, H2, H3$ si son hiperplanos de separacion."
   ]
  },
  {
   "cell_type": "markdown",
   "metadata": {},
   "source": [
    "**3. En el conjunto H, ¿cuantos hiperplanos iguales existen?. En el caso de que existan, ¿cuales son estos?. Fundamente**"
   ]
  },
  {
   "cell_type": "markdown",
   "metadata": {},
   "source": [
    "**4. Calcule el margen $τ$ para cada hiperplano de separacion. Luego, suponga que el conjunto H contiene al\n",
    "hiperplano optimo, $H^{*}$, ¿cual serıa $H^{*}$? Fundamente.**"
   ]
  },
  {
   "cell_type": "markdown",
   "metadata": {},
   "source": [
    "Para resolver esta pregunta sabemos por definicion que el margen de un hyperplano es la distancia minima entre dicho hiperplano y el ejemplo mas cercano. La distancia de cada ejemplo a el hyperplano de define como:\n",
    "$$\\frac{|D({x^i})|}{||w||}$$\n",
    "\n",
    "La siguiente funcion calcula la distancia minima de los ejemplos de entrenamiento a los hiperplanos. (Solo se calcula los margenes de los hiperplanos de seapracion antes identificados)"
   ]
  },
  {
   "cell_type": "code",
   "execution_count": 62,
   "metadata": {},
   "outputs": [],
   "source": [
    "##Funcion que calcula el margen de los hiperplanos\n",
    "def margen():\n",
    "    m1 = (1/np.linalg.norm(w1))*np.abs((h1(X[:,0],X[:,1])))\n",
    "    m2 = (1/np.linalg.norm(w2))*np.abs((h2(X[:,0],X[:,1])))\n",
    "    m3 = (1/np.linalg.norm(w3))*np.abs((h3(X[:,0],X[:,1])))\n",
    "    \n",
    "    margenes = {'m1':m1,\n",
    "               'm2':m2,\n",
    "               'm3':m3}\n",
    "    return margenes"
   ]
  },
  {
   "cell_type": "code",
   "execution_count": 63,
   "metadata": {},
   "outputs": [
    {
     "name": "stdout",
     "output_type": "stream",
     "text": [
      "margen de H1:  [4.24264069 4.24264069 2.12132034 2.12132034 2.12132034 4.94974747]\n",
      "margen de H2:  [1.09888451 3.15929297 0.27472113 4.80761974 2.06040846 5.90650425]\n",
      "margen de H3:  [1.73205081 1.41421356 1.02494403 0.16692527 0.16692527 0.70710678]\n"
     ]
    }
   ],
   "source": [
    "m=margen()\n",
    "print('margen de H1: ',m['m1'])\n",
    "print('margen de H2: ',m['m2'])\n",
    "print('margen de H3: ',m['m3'])"
   ]
  },
  {
   "cell_type": "markdown",
   "metadata": {},
   "source": [
    "Si suponemos que el conjunto de hiperplanos contiene un hiperplano optimo $H^*$ este seria el que tiene el mayor margen. En este caso seria el hiperplano $H1$"
   ]
  },
  {
   "cell_type": "markdown",
   "metadata": {},
   "source": [
    "**5. ¿Cuales son los vectores de soporte del hiperplano $H^{*}$ escogido en la pregunta anterior?. Fundamente.(No necesita encontrar los valores $α$ )**"
   ]
  },
  {
   "cell_type": "markdown",
   "metadata": {},
   "source": [
    "Se sabe por teoria que los vectores de soporte al hiperplano optimo son aquellos ejemplos $x^{(i)}$ que cumplen la igualdad:\n",
    "$$y^{(i)}(<w,x^{(i)}> + b)=1$$ "
   ]
  },
  {
   "cell_type": "code",
   "execution_count": 58,
   "metadata": {},
   "outputs": [],
   "source": [
    "def vectores_soporte(X,b,w,y):\n",
    "    D = restriction(X,b,w,y)\n",
    "    for i in range(D.shape[0]):\n",
    "        if D[i]==1:\n",
    "            print('v1: x%i',i)\n",
    "    return D"
   ]
  },
  {
   "cell_type": "code",
   "execution_count": 72,
   "metadata": {},
   "outputs": [
    {
     "name": "stdout",
     "output_type": "stream",
     "text": [
      "[[6]\n",
      " [6]\n",
      " [3]\n",
      " [3]\n",
      " [3]\n",
      " [7]]\n"
     ]
    },
    {
     "data": {
      "text/plain": [
       "(array([[1, 6],\n",
       "        [4, 9],\n",
       "        [4, 6],\n",
       "        [5, 1],\n",
       "        [9, 5],\n",
       "        [9, 1]]), array([-5, -5, -2,  4,  4,  8]), array([[-1],\n",
       "        [-1],\n",
       "        [-1],\n",
       "        [ 1],\n",
       "        [ 1],\n",
       "        [ 1]]))"
      ]
     },
     "execution_count": 72,
     "metadata": {},
     "output_type": "execute_result"
    }
   ],
   "source": [
    "print(vectores_soporte(X,b1,w1,y))\n",
    "r = np.dot(X,w1)+b1\n",
    "# r = r*Y–\n",
    "r\n",
    "b1\n",
    "X,X[:,0]-X[:,1],y\n",
    "# "
   ]
  },
  {
   "cell_type": "code",
   "execution_count": null,
   "metadata": {},
   "outputs": [],
   "source": []
  },
  {
   "cell_type": "code",
   "execution_count": null,
   "metadata": {},
   "outputs": [],
   "source": []
  },
  {
   "cell_type": "code",
   "execution_count": null,
   "metadata": {},
   "outputs": [],
   "source": []
  },
  {
   "cell_type": "code",
   "execution_count": null,
   "metadata": {},
   "outputs": [],
   "source": []
  },
  {
   "cell_type": "markdown",
   "metadata": {},
   "source": [
    "**6. Demuestre la primera condicion KKT, i.e, (Ec. 7 de las diapositivas)**"
   ]
  },
  {
   "cell_type": "markdown",
   "metadata": {},
   "source": [
    "Sea el conjunto $$N = {((1, 6), −1),((4, 9), −1),((4, 6), −1),((5, 1), 1),((9, 5), 1),((9, 1), 1),((0, 3), 1),((2, 2), −1),\n",
    "((3, 1), −1)}$$ y el hiperplano $H_1$ definido anteriormente."
   ]
  },
  {
   "cell_type": "markdown",
   "metadata": {},
   "source": [
    "**7. Usando cualquier lenguaje de programacion, grafique $N$ y $H_5$.**\n"
   ]
  },
  {
   "cell_type": "markdown",
   "metadata": {},
   "source": [
    "**8. Identifique los ejemplos que son separables y los que no lo son, Luego, determine los ejemplos que son clasificados correctamente y los que no.**"
   ]
  },
  {
   "cell_type": "markdown",
   "metadata": {},
   "source": [
    "**9. Calcule la ... de los ejemplos no separables.**"
   ]
  },
  {
   "cell_type": "markdown",
   "metadata": {},
   "source": [
    "## II. Preguntas de Investigacion"
   ]
  },
  {
   "cell_type": "markdown",
   "metadata": {},
   "source": [
    "**10. Explique el significado de la constante C en el termino $\\sum_{i=1}E_i$ que se agrega a la funcion objetivo en el caso de ejemplos casi linealmente separables. Luego, explique la influencia de C en la capacidad de generalizacion de una SVM.**\n"
   ]
  },
  {
   "cell_type": "markdown",
   "metadata": {},
   "source": [
    "**11. Describa el significado del parametro γ en el kernel gaussiano. Luego, explique la influencia de γ en la capacidad de generalizaci´on de una SVM.**"
   ]
  },
  {
   "cell_type": "markdown",
   "metadata": {},
   "source": [
    "## III. Implementacion"
   ]
  },
  {
   "cell_type": "markdown",
   "metadata": {},
   "source": [
    "**12. Usando el Scikit-learn de Python, implemente (comente su codigo) una SVM que clasifique el conjunto de datos ¡por definir¿.**\n"
   ]
  },
  {
   "cell_type": "markdown",
   "metadata": {},
   "source": [
    "**13. Experimente y muestre resultados usando diferentes valores para los parametros de los kernels: lineal,polinomial, gaussiano, y el parametro C. Los resultados deben ser mostrados en el documento pdf.**"
   ]
  },
  {
   "cell_type": "markdown",
   "metadata": {},
   "source": [
    "**14. Dentro de la seccion de Implementacion incluya una subseccion donde indique las instrucciones para ejecutar el codigo.**"
   ]
  },
  {
   "cell_type": "code",
   "execution_count": 32,
   "metadata": {},
   "outputs": [
    {
     "ename": "NameError",
     "evalue": "name 'ds' is not defined",
     "output_type": "error",
     "traceback": [
      "\u001b[0;31m---------------------------------------------------------------------------\u001b[0m",
      "\u001b[0;31mNameError\u001b[0m                                 Traceback (most recent call last)",
      "\u001b[0;32m<ipython-input-32-6f4a4004dcca>\u001b[0m in \u001b[0;36m<module>\u001b[0;34m\u001b[0m\n\u001b[0;32m----> 1\u001b[0;31m \u001b[0mds\u001b[0m\u001b[0;34m\u001b[0m\u001b[0m\n\u001b[0m",
      "\u001b[0;31mNameError\u001b[0m: name 'ds' is not defined"
     ]
    }
   ],
   "source": [
    "ds"
   ]
  },
  {
   "cell_type": "code",
   "execution_count": null,
   "metadata": {},
   "outputs": [],
   "source": []
  },
  {
   "cell_type": "markdown",
   "metadata": {},
   "source": []
  },
  {
   "cell_type": "code",
   "execution_count": null,
   "metadata": {},
   "outputs": [],
   "source": []
  }
 ],
 "metadata": {
  "kernelspec": {
   "display_name": "Python 3",
   "language": "python",
   "name": "python3"
  },
  "language_info": {
   "codemirror_mode": {
    "name": "ipython",
    "version": 3
   },
   "file_extension": ".py",
   "mimetype": "text/x-python",
   "name": "python",
   "nbconvert_exporter": "python",
   "pygments_lexer": "ipython3",
   "version": "3.6.5"
  }
 },
 "nbformat": 4,
 "nbformat_minor": 2
}
