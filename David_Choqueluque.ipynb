{
 "cells": [
  {
   "cell_type": "markdown",
   "metadata": {},
   "source": [
    "## I. Preguntas de teoria"
   ]
  },
  {
   "cell_type": "markdown",
   "metadata": {},
   "source": [
    "**Sea el conjunto $S={((1,6),-1),((4,9),-1),((4.6),-1),((5,1),1),((9,5),1),((9,1),1)}$ y un conjunto de hyperplanos $H={H1,H2,H3,H4}$ definidos como $H1:x_1-x_2-1=0, H2: 2x_1-7x_2+32 =0, H3: \\sqrt{0.5x_1} - \\sqrt{0.5x_2}-\\sqrt{0.5}=0, H4: 2x_1-7x_2-32=0$**"
   ]
  },
  {
   "cell_type": "markdown",
   "metadata": {},
   "source": [
    "**1. Grafique**"
   ]
  },
  {
   "cell_type": "code",
   "execution_count": 46,
   "metadata": {},
   "outputs": [
    {
     "name": "stdout",
     "output_type": "stream",
     "text": [
      "X shape: (6, 2)\n",
      "y shape: (6, 1)\n"
     ]
    },
    {
     "data": {
      "text/html": [
       "<div>\n",
       "<style scoped>\n",
       "    .dataframe tbody tr th:only-of-type {\n",
       "        vertical-align: middle;\n",
       "    }\n",
       "\n",
       "    .dataframe tbody tr th {\n",
       "        vertical-align: top;\n",
       "    }\n",
       "\n",
       "    .dataframe thead th {\n",
       "        text-align: right;\n",
       "    }\n",
       "</style>\n",
       "<table border=\"1\" class=\"dataframe\">\n",
       "  <thead>\n",
       "    <tr style=\"text-align: right;\">\n",
       "      <th></th>\n",
       "      <th>x1</th>\n",
       "      <th>x2</th>\n",
       "      <th>y</th>\n",
       "    </tr>\n",
       "  </thead>\n",
       "  <tbody>\n",
       "    <tr>\n",
       "      <th>0</th>\n",
       "      <td>1</td>\n",
       "      <td>6</td>\n",
       "      <td>-1</td>\n",
       "    </tr>\n",
       "    <tr>\n",
       "      <th>1</th>\n",
       "      <td>4</td>\n",
       "      <td>9</td>\n",
       "      <td>-1</td>\n",
       "    </tr>\n",
       "    <tr>\n",
       "      <th>2</th>\n",
       "      <td>4</td>\n",
       "      <td>6</td>\n",
       "      <td>-1</td>\n",
       "    </tr>\n",
       "    <tr>\n",
       "      <th>3</th>\n",
       "      <td>5</td>\n",
       "      <td>1</td>\n",
       "      <td>1</td>\n",
       "    </tr>\n",
       "    <tr>\n",
       "      <th>4</th>\n",
       "      <td>9</td>\n",
       "      <td>5</td>\n",
       "      <td>1</td>\n",
       "    </tr>\n",
       "    <tr>\n",
       "      <th>5</th>\n",
       "      <td>9</td>\n",
       "      <td>1</td>\n",
       "      <td>1</td>\n",
       "    </tr>\n",
       "  </tbody>\n",
       "</table>\n",
       "</div>"
      ],
      "text/plain": [
       "   x1  x2  y\n",
       "0   1   6 -1\n",
       "1   4   9 -1\n",
       "2   4   6 -1\n",
       "3   5   1  1\n",
       "4   9   5  1\n",
       "5   9   1  1"
      ]
     },
     "execution_count": 46,
     "metadata": {},
     "output_type": "execute_result"
    }
   ],
   "source": [
    "import matplotlib.pyplot as plt\n",
    "import numpy as np\n",
    "from sklearn.datasets.samples_generator import make_blobs\n",
    "from matplotlib import pyplot\n",
    "from pandas import DataFrame\n",
    "import pandas as pd\n",
    "\n",
    "#Hyperplanos\n",
    "def h1(x1, x2):\n",
    "    return x1-x2-1\n",
    "def h2(x1, x2):\n",
    "    return 2*x1-7*x2+32\n",
    "def h3(x1, x2):\n",
    "    return np.sqrt(0.5)*x1 - np.sqrt(0.5)*x2-np.sqrt(0.5)\n",
    "def h4(x1, x2):\n",
    "    return 2*x1-7*x2-32\n",
    "\n",
    "n = 6 #numero de ejemplos\n",
    "m = 2 #numero de variables\n",
    "x_1 = np.array([1,4,4,5,9,9])\n",
    "x_2 = np.array([6,9,6,1,5,1])\n",
    "y=np.array([-1,-1,-1,1,1,1])\n",
    "y=y.reshape(y.shape[0],1)\n",
    "X=np.array([np.transpose(x_1),np.transpose(x_2)])\n",
    "X=np.transpose(X)\n",
    "\n",
    "x1 = np.linspace(X.min()-1, X.max()+1,20)\n",
    "x2 = np.linspace(X.min()-1, X.max()+1,20)\n",
    "XX, YY = np.meshgrid(x1, x2)\n",
    "print('X shape:',X.shape)\n",
    "print('y shape:',y.shape)\n",
    "columns_new = ['x1', 'x2','y']\n",
    "pd.DataFrame(np.append(X,y,axis=1), columns=columns_new)"
   ]
  },
  {
   "cell_type": "code",
   "execution_count": 24,
   "metadata": {},
   "outputs": [
    {
     "data": {
      "image/png": "[encoded data removed]",
      "text/plain": [
       "<Figure size 432x288 with 1 Axes>"
      ]
     },
     "metadata": {
      "needs_background": "light"
     },
     "output_type": "display_data"
    }
   ],
   "source": [
    "ax = plt.subplot(111)\n",
    "plt.scatter(X[:,0], X[:,1], c=y[:,0])\n",
    "plt.title(\"Grafica\")\n",
    "\n",
    "c1 = ax.contour(XX, YY, h1(XX,YY), levels=[0],colors='red', alpha=0.5)\n",
    "c2 = ax.contour(XX, YY, h2(XX,YY), levels=[0],colors='blue', alpha=0.5)\n",
    "\n",
    "y2 = np.linspace(0, X.max()+1,20)\n",
    "XX, YY = np.meshgrid(x1, y2)\n",
    "c3 = ax.contour(XX, YY, h3(XX,YY), levels=[0],colors='green', alpha=0.5)\n",
    "\n",
    "y2 = np.linspace(-5, X.max()+1,20)\n",
    "XX, YY = np.meshgrid(x1, y2)\n",
    "c4 = ax.contour(XX, YY, h4(XX,YY), levels=[0],colors='black', alpha=0.5)\n",
    "\n",
    "lines=[c1.collections[0],c2.collections[0],c3.collections[0],c4.collections[0]]\n",
    "labels=['H1','H2','H3','H4']\n",
    "ax.legend(lines,labels,loc='upper right', bbox_to_anchor=(1.3, 0.8), shadow=True, ncol=1)\n",
    "plt.show()"
   ]
  },
  {
   "cell_type": "markdown",
   "metadata": {},
   "source": [
    "**2. Encuentre los parametros $w$ y $b$ que definen los hiperplanos y luego determine si son hiperplanos de separacion.**\n"
   ]
  },
  {
   "cell_type": "markdown",
   "metadata": {},
   "source": [
    "Sea la ecuacion general de un hiperplano:\n",
    "$$D(x)= <w,x> + b$$ \n",
    "Podemos escribir los hiperplanos de la siguiente manera:\n",
    "\n",
    "- H1:\n",
    "$$D(x) = x1-x2-1 = \\begin{bmatrix}1 & -1\\end{bmatrix}\n",
    "\\begin{bmatrix}x1 \\\\\\ x2\\end{bmatrix} - 1$$\n",
    "\n",
    "$$w_1=\\begin{bmatrix}1 \\\\\\ -1\\end{bmatrix}, b_1=\\begin{bmatrix}-1 \\\\\\ -1\\end{bmatrix}$$\n",
    "\n",
    "- H2:\n",
    "$$D(x) = 2x1-7x2+32 = \\begin{bmatrix}2 & -7\\end{bmatrix}\n",
    "\\begin{bmatrix}x1 \\\\\\ x2\\end{bmatrix} + 32$$\n",
    "$$w_2=\\begin{bmatrix}2 \\\\\\ -7\\end{bmatrix}, b_2=\\begin{bmatrix}32 \\\\\\ 32\\end{bmatrix}$$\n",
    "\n",
    "- H3:\n",
    "$$D(x) = \\sqrt{0.5}x1 - \\sqrt{0.5}x2-\\sqrt{0.5}\n",
    "=  \\begin{bmatrix}\\sqrt{0.5} & -\\sqrt{0.5}\\end{bmatrix} \\begin{bmatrix}x1 \\\\\\ x2\\end{bmatrix} - \\sqrt{0.5}\n",
    "$$\n",
    "$$w_3=\\begin{bmatrix}\\sqrt{0.5} \\\\\\ -\\sqrt{0.5}\\end{bmatrix}, b_3=\\begin{bmatrix}-\\sqrt{0.5} \\\\\\ -\\sqrt{0.5}\\end{bmatrix}$$\n",
    "\n",
    "- H4:\n",
    "$$D(x) = 2x1-7x2-32 = \\begin{bmatrix}2 & -7\\end{bmatrix}\n",
    "\\begin{bmatrix}x1 \\\\\\ x2\\end{bmatrix} - 32$$\n",
    "$$w_4=\\begin{bmatrix}2 \\\\\\ -7\\end{bmatrix}, b_4=\\begin{bmatrix}-32 \\\\\\ -32\\end{bmatrix}$$\n",
    "\n",
    "Para que un hiperplano sea un hyperplano de separacion debe cumplir la siguiente restriccion:\n",
    "\n",
    "$$y_i(<w,x> + b) \\geq 0,  \\quad i=1,..,n$$\n",
    "\n",
    "Dicha restriccion se define en la siguiente funcion.\n",
    "\n",
    "\n"
   ]
  },
  {
   "cell_type": "code",
   "execution_count": 25,
   "metadata": {},
   "outputs": [],
   "source": [
    "#funcion que calcula la restriccion de hiperplano de separacion\n",
    "def restriction(X,b,W,Y):\n",
    "    r = (np.dot(X,W)+b)\n",
    "    r = r*Y\n",
    "    return r\n"
   ]
  },
  {
   "cell_type": "markdown",
   "metadata": {},
   "source": [
    "A continuacion evaluaremos los hiperplanos calculando la restriccion para cada uno de ellos."
   ]
  },
  {
   "cell_type": "code",
   "execution_count": 26,
   "metadata": {},
   "outputs": [
    {
     "data": {
      "text/html": [
       "<div>\n",
       "<style scoped>\n",
       "    .dataframe tbody tr th:only-of-type {\n",
       "        vertical-align: middle;\n",
       "    }\n",
       "\n",
       "    .dataframe tbody tr th {\n",
       "        vertical-align: top;\n",
       "    }\n",
       "\n",
       "    .dataframe thead th {\n",
       "        text-align: right;\n",
       "    }\n",
       "</style>\n",
       "<table border=\"1\" class=\"dataframe\">\n",
       "  <thead>\n",
       "    <tr style=\"text-align: right;\">\n",
       "      <th></th>\n",
       "      <th>H1</th>\n",
       "      <th>H2</th>\n",
       "      <th>H3</th>\n",
       "      <th>H4</th>\n",
       "    </tr>\n",
       "  </thead>\n",
       "  <tbody>\n",
       "    <tr>\n",
       "      <th>0</th>\n",
       "      <td>6.0</td>\n",
       "      <td>8.0</td>\n",
       "      <td>4.242641</td>\n",
       "      <td>72.0</td>\n",
       "    </tr>\n",
       "    <tr>\n",
       "      <th>1</th>\n",
       "      <td>6.0</td>\n",
       "      <td>23.0</td>\n",
       "      <td>4.242641</td>\n",
       "      <td>87.0</td>\n",
       "    </tr>\n",
       "    <tr>\n",
       "      <th>2</th>\n",
       "      <td>3.0</td>\n",
       "      <td>2.0</td>\n",
       "      <td>2.121320</td>\n",
       "      <td>66.0</td>\n",
       "    </tr>\n",
       "    <tr>\n",
       "      <th>3</th>\n",
       "      <td>3.0</td>\n",
       "      <td>35.0</td>\n",
       "      <td>2.121320</td>\n",
       "      <td>-29.0</td>\n",
       "    </tr>\n",
       "    <tr>\n",
       "      <th>4</th>\n",
       "      <td>3.0</td>\n",
       "      <td>15.0</td>\n",
       "      <td>2.121320</td>\n",
       "      <td>-49.0</td>\n",
       "    </tr>\n",
       "    <tr>\n",
       "      <th>5</th>\n",
       "      <td>7.0</td>\n",
       "      <td>43.0</td>\n",
       "      <td>4.949747</td>\n",
       "      <td>-21.0</td>\n",
       "    </tr>\n",
       "  </tbody>\n",
       "</table>\n",
       "</div>"
      ],
      "text/plain": [
       "    H1    H2        H3    H4\n",
       "0  6.0   8.0  4.242641  72.0\n",
       "1  6.0  23.0  4.242641  87.0\n",
       "2  3.0   2.0  2.121320  66.0\n",
       "3  3.0  35.0  2.121320 -29.0\n",
       "4  3.0  15.0  2.121320 -49.0\n",
       "5  7.0  43.0  4.949747 -21.0"
      ]
     },
     "execution_count": 26,
     "metadata": {},
     "output_type": "execute_result"
    }
   ],
   "source": [
    "w1, b1 = np.array([1,-1]),-1 \n",
    "w1 = w1.reshape(w1.shape[0],1)\n",
    "w2, b2 = np.array([2,-7]),32 \n",
    "w2 = w2.reshape(w2.shape[0],1)\n",
    "w3, b3 = np.array([np.sqrt(0.5),-np.sqrt(0.5)]),-np.sqrt(0.5) \n",
    "w3 = w3.reshape(w3.shape[0],1)\n",
    "w4, b4 = np.array([2,-7]),-32 \n",
    "w4 = w4.reshape(w4.shape[0],1)\n",
    "H1 = restriction(X,b1,w1,y)\n",
    "H2 = restriction(X,b2,w2,y)\n",
    "H3 = restriction(X,b3,w3,y)\n",
    "H4 = restriction(X,b4,w4,y)\n",
    "data = np.array([H1,H2,H3,H4])\n",
    "# data = np.asarray(H1).append(H2)\n",
    "data = data.reshape(data.shape[0],data.shape[1])\n",
    "data = np.transpose(data)\n",
    "columns_new = ['H1', 'H2','H3','H4']\n",
    "pd.DataFrame(data, columns=columns_new)"
   ]
  },
  {
   "cell_type": "markdown",
   "metadata": {},
   "source": [
    "Observamos en los resultados anteriores que el hiperplano $H4$ no es un hiperplano de separacion debido a que no cumple la restriccion para los 3 ultimos ejemplos, mientras que los hiperplanos $H1, H2, H3$ si son hiperplanos de separacion."
   ]
  },
  {
   "cell_type": "markdown",
   "metadata": {},
   "source": [
    "**3. En el conjunto H, ¿cuantos hiperplanos iguales existen?. En el caso de que existan, ¿cuales son estos?. Fundamente**"
   ]
  },
  {
   "cell_type": "markdown",
   "metadata": {},
   "source": [
    "**4. Calcule el margen $τ$ para cada hiperplano de separacion. Luego, suponga que el conjunto H contiene al\n",
    "hiperplano optimo, $H^{*}$, ¿cual serıa $H^{*}$? Fundamente.**"
   ]
  },
  {
   "cell_type": "markdown",
   "metadata": {},
   "source": [
    "Para resolver esta pregunta sabemos por definicion que el margen de un hyperplano es la distancia minima entre dicho hiperplano y el ejemplo mas cercano. La distancia de cada ejemplo a el hyperplano de define como:\n",
    "$$\\frac{|D({x^i})|}{||w||}$$\n",
    "\n",
    "La siguiente funcion calcula la distancia minima de los ejemplos de entrenamiento a los hiperplanos. (Solo se calcula los margenes de los hiperplanos de seapracion antes identificados)"
   ]
  },
  {
   "cell_type": "code",
   "execution_count": 27,
   "metadata": {},
   "outputs": [],
   "source": [
    "##Funcion que calcula el margen de los hiperplanos\n",
    "def margen():\n",
    "    m1 = (1/np.linalg.norm(w1))*np.abs((h1(X[:,0],X[:,1])))\n",
    "    m2 = (1/np.linalg.norm(w2))*np.abs((h2(X[:,0],X[:,1])))\n",
    "    m3 = (1/np.linalg.norm(w3))*np.abs((h3(X[:,0],X[:,1])))\n",
    "    \n",
    "    margenes = {'m1':m1,\n",
    "               'm2':m2,\n",
    "               'm3':m3}\n",
    "    return margenes"
   ]
  },
  {
   "cell_type": "code",
   "execution_count": 28,
   "metadata": {},
   "outputs": [
    {
     "name": "stdout",
     "output_type": "stream",
     "text": [
      "margen de H1:  [4.24264069 4.24264069 2.12132034 2.12132034 2.12132034 4.94974747]\n",
      "margen de H2:  [1.09888451 3.15929297 0.27472113 4.80761974 2.06040846 5.90650425]\n",
      "margen de H3:  [4.24264069 4.24264069 2.12132034 2.12132034 2.12132034 4.94974747]\n"
     ]
    }
   ],
   "source": [
    "m=margen()\n",
    "print('margen de H1: ',m['m1'])\n",
    "print('margen de H2: ',m['m2'])\n",
    "print('margen de H3: ',m['m3'])"
   ]
  },
  {
   "cell_type": "markdown",
   "metadata": {},
   "source": [
    "Si suponemos que el conjunto de hiperplanos contiene un hiperplano optimo $H^*$ este seria el que tiene el mayor margen. En este caso seria el hiperplano $H1$"
   ]
  },
  {
   "cell_type": "markdown",
   "metadata": {},
   "source": [
    "**5. ¿Cuales son los vectores de soporte del hiperplano $H^{*}$ escogido en la pregunta anterior?. Fundamente.(No necesita encontrar los valores $α$ )**"
   ]
  },
  {
   "cell_type": "markdown",
   "metadata": {},
   "source": [
    "Se sabe por teoria que los vectores de soporte al hiperplano optimo son aquellos ejemplos $x^{(i)}$ que cumplen la igualdad:\n",
    "$$y^{(i)}(<w,x^{(i)}> + b)=1$$ "
   ]
  },
  {
   "cell_type": "code",
   "execution_count": 29,
   "metadata": {},
   "outputs": [],
   "source": [
    "def vectores_soporte(X,b,w,y):\n",
    "    D = restriction(X,b,w,y)\n",
    "    for i in range(D.shape[0]):\n",
    "        if D[i]==1:\n",
    "            print('v1: x%i',i)\n",
    "    return D"
   ]
  },
  {
   "cell_type": "code",
   "execution_count": 30,
   "metadata": {},
   "outputs": [
    {
     "name": "stdout",
     "output_type": "stream",
     "text": [
      "[[6]\n",
      " [6]\n",
      " [3]\n",
      " [3]\n",
      " [3]\n",
      " [7]]\n"
     ]
    },
    {
     "data": {
      "text/plain": [
       "(array([[1, 6],\n",
       "        [4, 9],\n",
       "        [4, 6],\n",
       "        [5, 1],\n",
       "        [9, 5],\n",
       "        [9, 1]]), array([-5, -5, -2,  4,  4,  8]), array([[-1],\n",
       "        [-1],\n",
       "        [-1],\n",
       "        [ 1],\n",
       "        [ 1],\n",
       "        [ 1]]))"
      ]
     },
     "execution_count": 30,
     "metadata": {},
     "output_type": "execute_result"
    }
   ],
   "source": [
    "print(vectores_soporte(X,b1,w1,y))\n",
    "r = np.dot(X,w1)+b1\n",
    "# r = r*Y–\n",
    "r\n",
    "b1\n",
    "X,X[:,0]-X[:,1],y\n",
    "# "
   ]
  },
  {
   "cell_type": "markdown",
   "metadata": {},
   "source": [
    "**6. Demuestre la primera condicion KKT, i.e, (Ec. 7 de las diapositivas)**"
   ]
  },
  {
   "cell_type": "markdown",
   "metadata": {},
   "source": [
    "Sea la ecuacion (7):\n",
    "$$\\begin{equation}\n",
    "\\frac{\\partial L}{\\partial w}(w^*,b^*,a^*) = w^* - \\sum_{i=1}^{m}\\alpha_i y^{(i)}x^{(i)} \n",
    "\\end{equation}$$\n",
    "\n",
    "Sabemos que $L$ se define como:\n",
    "$$\\begin{equation}\n",
    "L(w,b,\\alpha) = \\frac{1}{2}||w||^2 - \\sum_{i=1}^{m}\\alpha_i [y^{(i)}(w^T\n",
    "x^{(i)}+b)-1] \n",
    "\\end{equation}$$\n",
    "\n",
    "Si descomponemos $L$:\n",
    "$$\\begin{equation}\n",
    "L(w,b,\\alpha) = \\frac{1}{2}||w||^2 - \n",
    "\\sum_{i=1}^{m}\\alpha_i y^{(i)}w^Tx^{(i)} + \n",
    "\\sum_{i=1}^{m}\\alpha_i y^{(i)}b - \n",
    "\\sum_{i=1}^{m}\\alpha_i\n",
    "\\end{equation}$$\n"
   ]
  },
  {
   "cell_type": "markdown",
   "metadata": {},
   "source": [
    "Ahora calculamos la dervivada de cada termino:\n",
    "$$\\begin{equation}\n",
    "\\frac{\\partial L}{\\partial w}(w^*,b^*,a^*) = w - \\sum_{i=1}^{m}\\alpha_i y^{(i)}x^{(i)} +0-0\n",
    "\\end{equation}$$\n",
    "\n",
    "Por lo tanto nos quedaria:\n",
    "$$\\begin{equation}\n",
    "\\frac{\\partial L}{\\partial w}(w^*,b^*,a^*) = w^* - \\sum_{i=1}^{m}\\alpha_i y^{(i)}x^{(i)}\n",
    "\\end{equation}$$\n"
   ]
  },
  {
   "cell_type": "markdown",
   "metadata": {},
   "source": [
    "**Sea el conjunto $$N = {((1, 6), −1),((4, 9), −1),((4, 6), −1),((5, 1), 1),((9, 5), 1),((9, 1), 1),((0, 3), 1),((2, 2), −1),\n",
    "((3, 1), −1)}$$ y el hiperplano $H_1$ definido anteriormente.**"
   ]
  },
  {
   "cell_type": "markdown",
   "metadata": {},
   "source": [
    "**7. Usando cualquier lenguaje de programacion, grafique $N$ y $H_1$.**\n"
   ]
  },
  {
   "cell_type": "code",
   "execution_count": 31,
   "metadata": {},
   "outputs": [
    {
     "name": "stdout",
     "output_type": "stream",
     "text": [
      "X shape: (9, 2)\n",
      "y shape: (9, 1)\n"
     ]
    },
    {
     "data": {
      "text/html": [
       "<div>\n",
       "<style scoped>\n",
       "    .dataframe tbody tr th:only-of-type {\n",
       "        vertical-align: middle;\n",
       "    }\n",
       "\n",
       "    .dataframe tbody tr th {\n",
       "        vertical-align: top;\n",
       "    }\n",
       "\n",
       "    .dataframe thead th {\n",
       "        text-align: right;\n",
       "    }\n",
       "</style>\n",
       "<table border=\"1\" class=\"dataframe\">\n",
       "  <thead>\n",
       "    <tr style=\"text-align: right;\">\n",
       "      <th></th>\n",
       "      <th>x1</th>\n",
       "      <th>x2</th>\n",
       "      <th>y</th>\n",
       "    </tr>\n",
       "  </thead>\n",
       "  <tbody>\n",
       "    <tr>\n",
       "      <th>0</th>\n",
       "      <td>1</td>\n",
       "      <td>6</td>\n",
       "      <td>-1</td>\n",
       "    </tr>\n",
       "    <tr>\n",
       "      <th>1</th>\n",
       "      <td>4</td>\n",
       "      <td>9</td>\n",
       "      <td>-1</td>\n",
       "    </tr>\n",
       "    <tr>\n",
       "      <th>2</th>\n",
       "      <td>4</td>\n",
       "      <td>6</td>\n",
       "      <td>-1</td>\n",
       "    </tr>\n",
       "    <tr>\n",
       "      <th>3</th>\n",
       "      <td>5</td>\n",
       "      <td>1</td>\n",
       "      <td>1</td>\n",
       "    </tr>\n",
       "    <tr>\n",
       "      <th>4</th>\n",
       "      <td>9</td>\n",
       "      <td>5</td>\n",
       "      <td>1</td>\n",
       "    </tr>\n",
       "    <tr>\n",
       "      <th>5</th>\n",
       "      <td>9</td>\n",
       "      <td>1</td>\n",
       "      <td>1</td>\n",
       "    </tr>\n",
       "    <tr>\n",
       "      <th>6</th>\n",
       "      <td>0</td>\n",
       "      <td>3</td>\n",
       "      <td>1</td>\n",
       "    </tr>\n",
       "    <tr>\n",
       "      <th>7</th>\n",
       "      <td>2</td>\n",
       "      <td>2</td>\n",
       "      <td>-1</td>\n",
       "    </tr>\n",
       "    <tr>\n",
       "      <th>8</th>\n",
       "      <td>3</td>\n",
       "      <td>1</td>\n",
       "      <td>-1</td>\n",
       "    </tr>\n",
       "  </tbody>\n",
       "</table>\n",
       "</div>"
      ],
      "text/plain": [
       "   x1  x2  y\n",
       "0   1   6 -1\n",
       "1   4   9 -1\n",
       "2   4   6 -1\n",
       "3   5   1  1\n",
       "4   9   5  1\n",
       "5   9   1  1\n",
       "6   0   3  1\n",
       "7   2   2 -1\n",
       "8   3   1 -1"
      ]
     },
     "execution_count": 31,
     "metadata": {},
     "output_type": "execute_result"
    }
   ],
   "source": [
    "n = 6 #numero de ejemplos\n",
    "m = 2 #numero de variables\n",
    "x_1 = np.array([1,4,4,5,9,9,0,2,3])\n",
    "x_2 = np.array([6,9,6,1,5,1,3,2,1])\n",
    "y   = np.array([-1,-1,-1,1,1,1,1,-1,-1])\n",
    "y=y.reshape(y.shape[0],1)\n",
    "X=np.array([np.transpose(x_1),np.transpose(x_2)])\n",
    "X=np.transpose(X)\n",
    "\n",
    "x1 = np.linspace(X.min()-1, X.max()+1,20)\n",
    "x2 = np.linspace(X.min()-1, X.max()+1,20)\n",
    "XX, YY = np.meshgrid(x1, x2)\n",
    "print('X shape:',X.shape)\n",
    "print('y shape:',y.shape)\n",
    "columns_new = ['x1', 'x2','y']\n",
    "pd.DataFrame(np.append(X,y,axis=1), columns=columns_new)"
   ]
  },
  {
   "cell_type": "code",
   "execution_count": 32,
   "metadata": {},
   "outputs": [
    {
     "data": {
      "image/png": "[encoded data removed]",
      "text/plain": [
       "<Figure size 432x288 with 1 Axes>"
      ]
     },
     "metadata": {
      "needs_background": "light"
     },
     "output_type": "display_data"
    }
   ],
   "source": [
    "ax = plt.subplot(111)\n",
    "plt.scatter(X[:,0], X[:,1], c=y[:,0])\n",
    "plt.title(\"Grafica\")\n",
    "\n",
    "c1 = ax.contour(XX, YY, h1(XX,YY), levels=[0],colors='red', alpha=0.5)\n",
    "\n",
    "lines=[c1.collections[0]]\n",
    "labels=['H1']\n",
    "ax.legend(lines,labels,loc='upper right', bbox_to_anchor=(1.3, 0.8), shadow=True, ncol=1)\n",
    "plt.show()"
   ]
  },
  {
   "cell_type": "markdown",
   "metadata": {},
   "source": [
    "**8. Identifique los ejemplos que son separables y los que no lo son, Luego, determine los ejemplos que son clasificados correctamente y los que no.**"
   ]
  },
  {
   "cell_type": "markdown",
   "metadata": {},
   "source": [
    "Para verificar que un ejemplo $i$ es separable, debe cumplir la siguiente restriccion:\n",
    "$$R_i = y_i(w^T x^{(i)}) \\geq 1$$\n",
    "Se calcula dicha restriccion a continuacion de forma vectorial."
   ]
  },
  {
   "cell_type": "code",
   "execution_count": 33,
   "metadata": {},
   "outputs": [
    {
     "data": {
      "text/html": [
       "<div>\n",
       "<style scoped>\n",
       "    .dataframe tbody tr th:only-of-type {\n",
       "        vertical-align: middle;\n",
       "    }\n",
       "\n",
       "    .dataframe tbody tr th {\n",
       "        vertical-align: top;\n",
       "    }\n",
       "\n",
       "    .dataframe thead th {\n",
       "        text-align: right;\n",
       "    }\n",
       "</style>\n",
       "<table border=\"1\" class=\"dataframe\">\n",
       "  <thead>\n",
       "    <tr style=\"text-align: right;\">\n",
       "      <th></th>\n",
       "      <th>x1</th>\n",
       "      <th>x2</th>\n",
       "      <th>Ri</th>\n",
       "    </tr>\n",
       "  </thead>\n",
       "  <tbody>\n",
       "    <tr>\n",
       "      <th>0</th>\n",
       "      <td>1</td>\n",
       "      <td>6</td>\n",
       "      <td>5</td>\n",
       "    </tr>\n",
       "    <tr>\n",
       "      <th>1</th>\n",
       "      <td>4</td>\n",
       "      <td>9</td>\n",
       "      <td>5</td>\n",
       "    </tr>\n",
       "    <tr>\n",
       "      <th>2</th>\n",
       "      <td>4</td>\n",
       "      <td>6</td>\n",
       "      <td>2</td>\n",
       "    </tr>\n",
       "    <tr>\n",
       "      <th>3</th>\n",
       "      <td>5</td>\n",
       "      <td>1</td>\n",
       "      <td>4</td>\n",
       "    </tr>\n",
       "    <tr>\n",
       "      <th>4</th>\n",
       "      <td>9</td>\n",
       "      <td>5</td>\n",
       "      <td>4</td>\n",
       "    </tr>\n",
       "    <tr>\n",
       "      <th>5</th>\n",
       "      <td>9</td>\n",
       "      <td>1</td>\n",
       "      <td>8</td>\n",
       "    </tr>\n",
       "    <tr>\n",
       "      <th>6</th>\n",
       "      <td>0</td>\n",
       "      <td>3</td>\n",
       "      <td>-3</td>\n",
       "    </tr>\n",
       "    <tr>\n",
       "      <th>7</th>\n",
       "      <td>2</td>\n",
       "      <td>2</td>\n",
       "      <td>0</td>\n",
       "    </tr>\n",
       "    <tr>\n",
       "      <th>8</th>\n",
       "      <td>3</td>\n",
       "      <td>1</td>\n",
       "      <td>-2</td>\n",
       "    </tr>\n",
       "  </tbody>\n",
       "</table>\n",
       "</div>"
      ],
      "text/plain": [
       "   x1  x2  Ri\n",
       "0   1   6   5\n",
       "1   4   9   5\n",
       "2   4   6   2\n",
       "3   5   1   4\n",
       "4   9   5   4\n",
       "5   9   1   8\n",
       "6   0   3  -3\n",
       "7   2   2   0\n",
       "8   3   1  -2"
      ]
     },
     "execution_count": 33,
     "metadata": {},
     "output_type": "execute_result"
    }
   ],
   "source": [
    "R = y*np.dot(X,w1)\n",
    "columns_new = ['x1', 'x2','Ri']\n",
    "pd.DataFrame(np.append(X,R,axis=1), columns=columns_new)"
   ]
  },
  {
   "cell_type": "markdown",
   "metadata": {},
   "source": [
    "Podemos observar que los ejemplos 6 y 8 (S=-3, S=-2) \n",
    "no cumplen la restriccion, por lo tanto estos son no separables, mientras que los demas ejemplos si son separables."
   ]
  },
  {
   "cell_type": "markdown",
   "metadata": {},
   "source": [
    "**9. Calcule la holgura de los ejemplos no separables.**"
   ]
  },
  {
   "cell_type": "markdown",
   "metadata": {},
   "source": [
    "Para calcular las holguras de los ejemplos no separables debemos calcular la siguiente formula:\n",
    "$$H_i=1-y_i(w^T x^{(i)}+b) \\geq 1$$"
   ]
  },
  {
   "cell_type": "code",
   "execution_count": 34,
   "metadata": {},
   "outputs": [
    {
     "data": {
      "text/html": [
       "<div>\n",
       "<style scoped>\n",
       "    .dataframe tbody tr th:only-of-type {\n",
       "        vertical-align: middle;\n",
       "    }\n",
       "\n",
       "    .dataframe tbody tr th {\n",
       "        vertical-align: top;\n",
       "    }\n",
       "\n",
       "    .dataframe thead th {\n",
       "        text-align: right;\n",
       "    }\n",
       "</style>\n",
       "<table border=\"1\" class=\"dataframe\">\n",
       "  <thead>\n",
       "    <tr style=\"text-align: right;\">\n",
       "      <th></th>\n",
       "      <th>x1</th>\n",
       "      <th>x2</th>\n",
       "      <th>Ri</th>\n",
       "      <th>Hi</th>\n",
       "    </tr>\n",
       "  </thead>\n",
       "  <tbody>\n",
       "    <tr>\n",
       "      <th>0</th>\n",
       "      <td>1</td>\n",
       "      <td>6</td>\n",
       "      <td>6</td>\n",
       "      <td>-5</td>\n",
       "    </tr>\n",
       "    <tr>\n",
       "      <th>1</th>\n",
       "      <td>4</td>\n",
       "      <td>9</td>\n",
       "      <td>6</td>\n",
       "      <td>-5</td>\n",
       "    </tr>\n",
       "    <tr>\n",
       "      <th>2</th>\n",
       "      <td>4</td>\n",
       "      <td>6</td>\n",
       "      <td>3</td>\n",
       "      <td>-2</td>\n",
       "    </tr>\n",
       "    <tr>\n",
       "      <th>3</th>\n",
       "      <td>5</td>\n",
       "      <td>1</td>\n",
       "      <td>3</td>\n",
       "      <td>-2</td>\n",
       "    </tr>\n",
       "    <tr>\n",
       "      <th>4</th>\n",
       "      <td>9</td>\n",
       "      <td>5</td>\n",
       "      <td>3</td>\n",
       "      <td>-2</td>\n",
       "    </tr>\n",
       "    <tr>\n",
       "      <th>5</th>\n",
       "      <td>9</td>\n",
       "      <td>1</td>\n",
       "      <td>7</td>\n",
       "      <td>-6</td>\n",
       "    </tr>\n",
       "    <tr>\n",
       "      <th>6</th>\n",
       "      <td>0</td>\n",
       "      <td>3</td>\n",
       "      <td>-4</td>\n",
       "      <td>5</td>\n",
       "    </tr>\n",
       "    <tr>\n",
       "      <th>7</th>\n",
       "      <td>2</td>\n",
       "      <td>2</td>\n",
       "      <td>1</td>\n",
       "      <td>0</td>\n",
       "    </tr>\n",
       "    <tr>\n",
       "      <th>8</th>\n",
       "      <td>3</td>\n",
       "      <td>1</td>\n",
       "      <td>-1</td>\n",
       "      <td>2</td>\n",
       "    </tr>\n",
       "  </tbody>\n",
       "</table>\n",
       "</div>"
      ],
      "text/plain": [
       "   x1  x2  Ri  Hi\n",
       "0   1   6   6  -5\n",
       "1   4   9   6  -5\n",
       "2   4   6   3  -2\n",
       "3   5   1   3  -2\n",
       "4   9   5   3  -2\n",
       "5   9   1   7  -6\n",
       "6   0   3  -4   5\n",
       "7   2   2   1   0\n",
       "8   3   1  -1   2"
      ]
     },
     "execution_count": 34,
     "metadata": {},
     "output_type": "execute_result"
    }
   ],
   "source": [
    "E = 1-y*(np.dot(X,w1)+b1)\n",
    "pc = y*(np.dot(X,w1)+b1)\n",
    "columns_new = ['x1', 'x2','Ri','Hi']\n",
    "data = np.append(X,pc,axis=1)\n",
    "data = np.append(data,E,axis=1)\n",
    "pd.DataFrame(data, columns=columns_new)"
   ]
  },
  {
   "cell_type": "markdown",
   "metadata": {},
   "source": [
    "Podemos observar que para los ejemplos 6 y 8 las holguras son mayores que cero.\n",
    "$$E_6 = 5$$\n",
    "$$E_8 = 2$$"
   ]
  },
  {
   "cell_type": "markdown",
   "metadata": {},
   "source": [
    "## II. Preguntas de Investigacion"
   ]
  },
  {
   "cell_type": "markdown",
   "metadata": {},
   "source": [
    "**10. Explique el significado de la constante C en el termino $\\sum_{i=1}E_i$ que se agrega a la funcion objetivo en el caso de ejemplos casi linealmente separables. Luego, explique la influencia de C en la capacidad de generalizacion de una SVM.**\n"
   ]
  },
  {
   "attachments": {
    "svm-reg.png": {
     "image/png": "[encoded data removed]"
    }
   },
   "cell_type": "markdown",
   "metadata": {},
   "source": [
    "Sabemos que para encontrar el hiperplano de separacion optimo debemos maximizar el margen (o minimizar $w$) mediante la minimizacion de la siguiente funcion.\n",
    "\n",
    "$$f(w,E) = \\frac{1}{2}||w||^2 + C\\sum_{i=1}^{n} E_i$$\n",
    "\n",
    "La constante C regresenta el parametro de regularizacion del modelo para \"evitar\" errores en la calsificacion , esta debe ser lo suficientemente grande para controlar el grado de influencia del termino.\n",
    "En otras palabras un SVM está buscando dos cosas: un hiperplano con el margen mínimo más grande y un hiperplano que separa correctamente tantas instancias como sea posible. El problema es que no siempre podra obtener ambas cosas. El parámetro c determina qué tan grande es su deseo para este último. La siguiente imagen muestra como se selecciona un hiperplano con valores altos y bajos para el parametro C.\n",
    "![svm-reg.png](attachment:svm-reg.png)"
   ]
  },
  {
   "cell_type": "markdown",
   "metadata": {},
   "source": [
    "**11. Describa el significado del parametro γ en el kernel gaussiano. Luego, explique la influencia de γ en la capacidad de generalizacion de una SVM.**"
   ]
  },
  {
   "cell_type": "markdown",
   "metadata": {},
   "source": [
    "## III. Implementacion"
   ]
  },
  {
   "cell_type": "markdown",
   "metadata": {},
   "source": [
    "**12. Usando el Scikit-learn de Python, implemente (comente su codigo) una SVM que clasifique un conjunto de datos.**\n"
   ]
  },
  {
   "cell_type": "markdown",
   "metadata": {},
   "source": [
    "Para este ejercicio usare el dataset de \"datos de iris\" para predecir la categoria la categoria a la que pertenece una planta segun 4 caracterisiticas: ancho de sepalo, largo de sepalo, ancho de petalo y largo de petalo.\n",
    "El dataset puede descargarse del siguiente enlace:\n",
    "https://archive.ics.uci.edu/ml/datasets/iris"
   ]
  },
  {
   "cell_type": "markdown",
   "metadata": {},
   "source": [
    "Para entrenar un modelo SVM con Scikit-learn seguire los siguientes pasos:\n",
    "- Importar el conjunto de datos\n",
    "- Preprocesar los datos\n",
    "- Dividir el dataset para realizar validacion cruzada\n",
    "- Entrenar el modelo\n",
    "- Hacer predicciones"
   ]
  },
  {
   "cell_type": "markdown",
   "metadata": {},
   "source": [
    "### 1. Importar el dataset"
   ]
  },
  {
   "cell_type": "code",
   "execution_count": 35,
   "metadata": {},
   "outputs": [],
   "source": [
    "url = \"https://archive.ics.uci.edu/ml/machine-learning-databases/iris/iris.data\"\n",
    "\n",
    "# Asignamos nombres a las columnas\n",
    "colnames = ['sepal-length', 'sepal-width', 'petal-length', 'petal-width', 'Class']\n",
    "\n",
    "# Leer el dataset en un datframe de panda\n",
    "irisdata = pd.read_csv(url, names=colnames)  "
   ]
  },
  {
   "cell_type": "code",
   "execution_count": 36,
   "metadata": {},
   "outputs": [
    {
     "data": {
      "text/html": [
       "<div>\n",
       "<style scoped>\n",
       "    .dataframe tbody tr th:only-of-type {\n",
       "        vertical-align: middle;\n",
       "    }\n",
       "\n",
       "    .dataframe tbody tr th {\n",
       "        vertical-align: top;\n",
       "    }\n",
       "\n",
       "    .dataframe thead th {\n",
       "        text-align: right;\n",
       "    }\n",
       "</style>\n",
       "<table border=\"1\" class=\"dataframe\">\n",
       "  <thead>\n",
       "    <tr style=\"text-align: right;\">\n",
       "      <th></th>\n",
       "      <th>sepal-length</th>\n",
       "      <th>sepal-width</th>\n",
       "      <th>petal-length</th>\n",
       "      <th>petal-width</th>\n",
       "      <th>Class</th>\n",
       "    </tr>\n",
       "  </thead>\n",
       "  <tbody>\n",
       "    <tr>\n",
       "      <th>0</th>\n",
       "      <td>5.1</td>\n",
       "      <td>3.5</td>\n",
       "      <td>1.4</td>\n",
       "      <td>0.2</td>\n",
       "      <td>Iris-setosa</td>\n",
       "    </tr>\n",
       "    <tr>\n",
       "      <th>1</th>\n",
       "      <td>4.9</td>\n",
       "      <td>3.0</td>\n",
       "      <td>1.4</td>\n",
       "      <td>0.2</td>\n",
       "      <td>Iris-setosa</td>\n",
       "    </tr>\n",
       "    <tr>\n",
       "      <th>2</th>\n",
       "      <td>4.7</td>\n",
       "      <td>3.2</td>\n",
       "      <td>1.3</td>\n",
       "      <td>0.2</td>\n",
       "      <td>Iris-setosa</td>\n",
       "    </tr>\n",
       "  </tbody>\n",
       "</table>\n",
       "</div>"
      ],
      "text/plain": [
       "   sepal-length  sepal-width  petal-length  petal-width        Class\n",
       "0           5.1          3.5           1.4          0.2  Iris-setosa\n",
       "1           4.9          3.0           1.4          0.2  Iris-setosa\n",
       "2           4.7          3.2           1.3          0.2  Iris-setosa"
      ]
     },
     "execution_count": 36,
     "metadata": {},
     "output_type": "execute_result"
    }
   ],
   "source": [
    "# a continuacion visualizamos los primeros 3 registros \n",
    "irisdata.head(3)"
   ]
  },
  {
   "cell_type": "code",
   "execution_count": 37,
   "metadata": {},
   "outputs": [
    {
     "name": "stdout",
     "output_type": "stream",
     "text": [
      "numero de ejemplos de entrenamiento:  150\n",
      "numero de caracterisiticas:  4\n",
      "categorias:  ['Iris-setosa' 'Iris-versicolor' 'Iris-virginica']\n"
     ]
    }
   ],
   "source": [
    "#numero de ejemplos en el dataset\n",
    "print('numero de ejemplos de entrenamiento: ',irisdata.shape[0])\n",
    "#numero de caracteristicas en el dataset\n",
    "print('numero de caracterisiticas: ',irisdata.shape[1]-1)\n",
    "#numero de categorias en el dataset\n",
    "print(\"categorias: \", irisdata.Class.unique())"
   ]
  },
  {
   "cell_type": "markdown",
   "metadata": {},
   "source": [
    "### 2. Preprocesamiento"
   ]
  },
  {
   "cell_type": "code",
   "execution_count": 38,
   "metadata": {},
   "outputs": [],
   "source": [
    "#Obtener del dataset los ejemplos y etiquetas como series separadas\n",
    "X = irisdata.drop('Class', axis=1)  \n",
    "y = irisdata['Class']"
   ]
  },
  {
   "cell_type": "markdown",
   "metadata": {},
   "source": [
    "### 3. Division del dataset"
   ]
  },
  {
   "cell_type": "code",
   "execution_count": 39,
   "metadata": {},
   "outputs": [],
   "source": [
    "# dividiremos el dataset usando el 80% de datos para entrenamiento y \n",
    "# el restante 20% para las pruebas\n",
    "from sklearn.model_selection import train_test_split  \n",
    "X_train, X_test, y_train, y_test = train_test_split(X, y, test_size = 0.20) "
   ]
  },
  {
   "cell_type": "markdown",
   "metadata": {},
   "source": [
    "### 4. Entrenamiento"
   ]
  },
  {
   "cell_type": "code",
   "execution_count": 40,
   "metadata": {},
   "outputs": [
    {
     "name": "stderr",
     "output_type": "stream",
     "text": [
      "/home/david/entorno1/lib/python3.6/site-packages/sklearn/svm/base.py:196: FutureWarning: The default value of gamma will change from 'auto' to 'scale' in version 0.22 to account better for unscaled features. Set gamma explicitly to 'auto' or 'scale' to avoid this warning.\n",
      "  \"avoid this warning.\", FutureWarning)\n"
     ]
    },
    {
     "data": {
      "text/plain": [
       "SVC(C=1.0, cache_size=200, class_weight=None, coef0=0.0,\n",
       "  decision_function_shape='ovr', degree=8, gamma='auto_deprecated',\n",
       "  kernel='poly', max_iter=-1, probability=False, random_state=None,\n",
       "  shrinking=True, tol=0.001, verbose=False)"
      ]
     },
     "execution_count": 40,
     "metadata": {},
     "output_type": "execute_result"
    }
   ],
   "source": [
    "#Para este ejercicio empleare un kernel polinomial\n",
    "from sklearn.svm import SVC  \n",
    "svclassifier = SVC(kernel='poly', degree=8)  \n",
    "#entrenamiento\n",
    "svclassifier.fit(X_train, y_train) "
   ]
  },
  {
   "cell_type": "markdown",
   "metadata": {},
   "source": [
    "### 5.Predicciones y evaluacion "
   ]
  },
  {
   "cell_type": "code",
   "execution_count": 41,
   "metadata": {},
   "outputs": [
    {
     "name": "stdout",
     "output_type": "stream",
     "text": [
      "                 precision    recall  f1-score   support\n",
      "\n",
      "    Iris-setosa       1.00      1.00      1.00        12\n",
      "Iris-versicolor       1.00      1.00      1.00         7\n",
      " Iris-virginica       1.00      1.00      1.00        11\n",
      "\n",
      "      micro avg       1.00      1.00      1.00        30\n",
      "      macro avg       1.00      1.00      1.00        30\n",
      "   weighted avg       1.00      1.00      1.00        30\n",
      "\n",
      "Accuracy: 1.0\n"
     ]
    }
   ],
   "source": [
    "#Predicciones\n",
    "y_pred = svclassifier.predict(X_test)  \n",
    "#Evaluacion\n",
    "from sklearn.metrics import classification_report\n",
    "#Usamos metricas para evaluar las predicciones\n",
    "print(classification_report(y_test, y_pred)) \n",
    "from sklearn import metrics\n",
    "print(\"Accuracy:\",metrics.accuracy_score(y_test, y_pred))"
   ]
  },
  {
   "cell_type": "markdown",
   "metadata": {},
   "source": [
    "**13. Experimente y muestre resultados usando diferentes valores para los parametros de los kernels: lineal,polinomial, gaussiano, y el parametro C. Los resultados deben ser mostrados en el documento pdf.**"
   ]
  },
  {
   "cell_type": "markdown",
   "metadata": {},
   "source": [
    "### Kernel Gaussiano"
   ]
  },
  {
   "cell_type": "code",
   "execution_count": 42,
   "metadata": {},
   "outputs": [
    {
     "name": "stdout",
     "output_type": "stream",
     "text": [
      "                 precision    recall  f1-score   support\n",
      "\n",
      "    Iris-setosa       1.00      1.00      1.00        12\n",
      "Iris-versicolor       0.88      1.00      0.93         7\n",
      " Iris-virginica       1.00      0.91      0.95        11\n",
      "\n",
      "      micro avg       0.97      0.97      0.97        30\n",
      "      macro avg       0.96      0.97      0.96        30\n",
      "   weighted avg       0.97      0.97      0.97        30\n",
      "\n",
      "Accuracy: 0.9666666666666667\n"
     ]
    },
    {
     "name": "stderr",
     "output_type": "stream",
     "text": [
      "/home/david/entorno1/lib/python3.6/site-packages/sklearn/svm/base.py:196: FutureWarning: The default value of gamma will change from 'auto' to 'scale' in version 0.22 to account better for unscaled features. Set gamma explicitly to 'auto' or 'scale' to avoid this warning.\n",
      "  \"avoid this warning.\", FutureWarning)\n"
     ]
    }
   ],
   "source": [
    "from sklearn.svm import SVC \n",
    "svclassifier1 = SVC(kernel='rbf')  \n",
    "svclassifier1.fit(X_train, y_train)  \n",
    "#realizar predicciones\n",
    "y_pred = svclassifier1.predict(X_test)\n",
    "#evaluacion\n",
    "print(classification_report(y_test, y_pred))\n",
    "from sklearn import metrics\n",
    "print(\"Accuracy:\",metrics.accuracy_score(y_test, y_pred))\n"
   ]
  },
  {
   "cell_type": "markdown",
   "metadata": {},
   "source": [
    "### Kernel Sigmoideo"
   ]
  },
  {
   "cell_type": "code",
   "execution_count": 43,
   "metadata": {},
   "outputs": [
    {
     "name": "stdout",
     "output_type": "stream",
     "text": [
      "                 precision    recall  f1-score   support\n",
      "\n",
      "    Iris-setosa       0.00      0.00      0.00        12\n",
      "Iris-versicolor       0.23      1.00      0.38         7\n",
      " Iris-virginica       0.00      0.00      0.00        11\n",
      "\n",
      "      micro avg       0.23      0.23      0.23        30\n",
      "      macro avg       0.08      0.33      0.13        30\n",
      "   weighted avg       0.05      0.23      0.09        30\n",
      "\n",
      "Accuracy: 0.23333333333333334\n"
     ]
    },
    {
     "name": "stderr",
     "output_type": "stream",
     "text": [
      "/home/david/entorno1/lib/python3.6/site-packages/sklearn/svm/base.py:196: FutureWarning: The default value of gamma will change from 'auto' to 'scale' in version 0.22 to account better for unscaled features. Set gamma explicitly to 'auto' or 'scale' to avoid this warning.\n",
      "  \"avoid this warning.\", FutureWarning)\n",
      "/home/david/entorno1/lib/python3.6/site-packages/sklearn/metrics/classification.py:1143: UndefinedMetricWarning: Precision and F-score are ill-defined and being set to 0.0 in labels with no predicted samples.\n",
      "  'precision', 'predicted', average, warn_for)\n"
     ]
    }
   ],
   "source": [
    "from sklearn.svm import SVC \n",
    "svclassifier2 = SVC(kernel='sigmoid')  \n",
    "svclassifier2.fit(X_train, y_train) \n",
    "#realizar predicciones\n",
    "y_pred = svclassifier2.predict(X_test)\n",
    "#evaluacion\n",
    "print(classification_report(y_test, y_pred)) \n",
    "from sklearn import metrics\n",
    "print(\"Accuracy:\",metrics.accuracy_score(y_test, y_pred))\n"
   ]
  },
  {
   "cell_type": "markdown",
   "metadata": {},
   "source": [
    "### Kernel Lineal"
   ]
  },
  {
   "cell_type": "code",
   "execution_count": 44,
   "metadata": {},
   "outputs": [
    {
     "name": "stdout",
     "output_type": "stream",
     "text": [
      "                 precision    recall  f1-score   support\n",
      "\n",
      "    Iris-setosa       1.00      1.00      1.00        12\n",
      "Iris-versicolor       0.88      1.00      0.93         7\n",
      " Iris-virginica       1.00      0.91      0.95        11\n",
      "\n",
      "      micro avg       0.97      0.97      0.97        30\n",
      "      macro avg       0.96      0.97      0.96        30\n",
      "   weighted avg       0.97      0.97      0.97        30\n",
      "\n",
      "Accuracy: 0.9666666666666667\n"
     ]
    }
   ],
   "source": [
    "from sklearn.svm import SVC \n",
    "svclassifier3 = SVC(kernel='linear')  \n",
    "svclassifier3.fit(X_train, y_train)\n",
    "#realizar predicciones\n",
    "y_pred = svclassifier3.predict(X_test)\n",
    "#evaluacion\n",
    "print(classification_report(y_test, y_pred)) \n",
    "from sklearn import metrics\n",
    "print(\"Accuracy:\",metrics.accuracy_score(y_test, y_pred))\n"
   ]
  },
  {
   "cell_type": "markdown",
   "metadata": {},
   "source": [
    "### Analisis\n",
    "Si observamos la precision producidos por lso diferentes tipos de kernels, podemos ver que la peor precision la obtiene el kernel sigmoideo, esto es debido a la dimension de las categorias, que en este dataset se tienen 3 categorias pero la kernel sigmoideo devuelve dos valores."
   ]
  }
 ],
 "metadata": {
  "kernelspec": {
   "display_name": "Python 3",
   "language": "python",
   "name": "python3"
  },
  "language_info": {
   "codemirror_mode": {
    "name": "ipython",
    "version": 3
   },
   "file_extension": ".py",
   "mimetype": "text/x-python",
   "name": "python",
   "nbconvert_exporter": "python",
   "pygments_lexer": "ipython3",
   "version": "3.6.6"
  }
 },
 "nbformat": 4,
 "nbformat_minor": 2
}
